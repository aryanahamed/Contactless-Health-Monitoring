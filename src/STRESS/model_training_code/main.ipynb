{
 "cells": [
  {
   "cell_type": "code",
   "execution_count": null,
   "id": "bf749199",
   "metadata": {},
   "outputs": [],
   "source": [
    "import pandas as pd\n",
    "# from sklearn.model_selection import train_test_split\n",
    "from sklearn.preprocessing import StandardScaler, LabelEncoder\n",
    "from sklearn.ensemble import RandomForestClassifier\n",
    "from sklearn.metrics import classification_report, accuracy_score\n",
    "import matplotlib.pyplot as plt\n",
    "import numpy as np\n",
    "from sklearn.model_selection import learning_curve\n",
    "import joblib\n",
    "import os\n",
    "# import seaborn as sns"
   ]
  },
  {
   "cell_type": "code",
   "execution_count": 131,
   "id": "2decb785",
   "metadata": {},
   "outputs": [],
   "source": [
    "# Load the hr non linear train dataset\n",
    "df_hr_train = pd.read_csv('Train Data/heart_rate_non_linear_features_train.csv')\n",
    "# Load the time domain dataset\n",
    "df_time_train = pd.read_csv('Train Data/time_domain_features_train.csv')"
   ]
  },
  {
   "cell_type": "code",
   "execution_count": 132,
   "id": "d3a2b12f",
   "metadata": {},
   "outputs": [],
   "source": [
    "# Merge the two datasets on 'uuid'\n",
    "df_train = pd.merge(df_hr_train, df_time_train, on='uuid')"
   ]
  },
  {
   "cell_type": "code",
   "execution_count": 133,
   "id": "71aee918",
   "metadata": {},
   "outputs": [
    {
     "name": "stdout",
     "output_type": "stream",
     "text": [
      "                                   uuid        SD1         SD2    sampen  \\\n",
      "0  89df2855-56eb-4706-a23b-b39363dd605a  11.001565  199.061782  2.139754   \n",
      "1  80c795e4-aa56-4cc0-939c-19634b89cbb2   9.170129  114.634458  2.174499   \n",
      "2  c2d5d102-967c-487d-88f2-8b005a449f3e  11.533417  118.939253  2.135350   \n",
      "3  37eabc44-1349-4040-8896-0d113ad4811f  11.119476  127.318597  2.178341   \n",
      "4  aa777a6a-7aa3-4f6e-aced-70f8691dd2b7  13.590641   87.718281  2.221121   \n",
      "\n",
      "     higuci  datasetId     condition     MEAN_RR   MEDIAN_RR        SDRR  ...  \\\n",
      "0  1.163485          2     no stress  885.157845  853.763730  140.972741  ...   \n",
      "1  1.084711          2  interruption  939.425371  948.357865   81.317742  ...   \n",
      "2  1.176315          2  interruption  898.186047  907.006860   84.497236  ...   \n",
      "3  1.179688          2     no stress  881.757865  893.460030   90.370537  ...   \n",
      "4  1.249612          2     no stress  809.625331  811.184865   62.766242  ...   \n",
      "\n",
      "       KURT      SKEW  MEAN_REL_RR  MEDIAN_REL_RR  SDRR_REL_RR  RMSSD_REL_RR  \\\n",
      "0 -0.856554  0.335218    -0.000203      -0.000179     0.017080      0.007969   \n",
      "1 -0.408190 -0.155286    -0.000059       0.000611     0.013978      0.004769   \n",
      "2  0.351789 -0.656813    -0.000011      -0.000263     0.018539      0.008716   \n",
      "3 -0.504947 -0.386138     0.000112       0.000494     0.017761      0.008660   \n",
      "4 -0.548408 -0.154252    -0.000100      -0.002736     0.023715      0.013055   \n",
      "\n",
      "   SDSD_REL_RR  SDRR_RMSSD_REL_RR  KURT_REL_RR  SKEW_REL_RR  \n",
      "0     0.007969           2.143342    -0.856554     0.335218  \n",
      "1     0.004769           2.930855    -0.408190    -0.155286  \n",
      "2     0.008716           2.127053     0.351789    -0.656813  \n",
      "3     0.008660           2.050988    -0.504947    -0.386138  \n",
      "4     0.013055           1.816544    -0.548408    -0.154252  \n",
      "\n",
      "[5 rows x 26 columns]\n"
     ]
    }
   ],
   "source": [
    "# Look at the first few rows of the merged dataset\n",
    "print(df_train.head())"
   ]
  },
  {
   "cell_type": "code",
   "execution_count": 134,
   "id": "e9bad76e",
   "metadata": {},
   "outputs": [],
   "source": [
    "# Drop all the columns instead of \"MEAN_RR\", \"SDRR\", \"RMSSD\", \"HR\", \"uuid\", \"SDRR_RMSSD\"\n",
    "df_train = df_train[[\"uuid\", \"HR\", \"MEAN_RR\", \"SDRR\", \"RMSSD\", \"SDRR_RMSSD\", \"condition\"]]"
   ]
  },
  {
   "cell_type": "code",
   "execution_count": 135,
   "id": "a1d02939",
   "metadata": {},
   "outputs": [
    {
     "name": "stdout",
     "output_type": "stream",
     "text": [
      "                                   uuid         HR     MEAN_RR        SDRR  \\\n",
      "0  89df2855-56eb-4706-a23b-b39363dd605a  69.499952  885.157845  140.972741   \n",
      "1  80c795e4-aa56-4cc0-939c-19634b89cbb2  64.363150  939.425371   81.317742   \n",
      "2  c2d5d102-967c-487d-88f2-8b005a449f3e  67.450066  898.186047   84.497236   \n",
      "3  37eabc44-1349-4040-8896-0d113ad4811f  68.809562  881.757865   90.370537   \n",
      "4  aa777a6a-7aa3-4f6e-aced-70f8691dd2b7  74.565728  809.625331   62.766242   \n",
      "\n",
      "       RMSSD  SDRR_RMSSD     condition  \n",
      "0  15.554505    9.063146     no stress  \n",
      "1  12.964439    6.272369  interruption  \n",
      "2  16.305279    5.182201  interruption  \n",
      "3  15.720468    5.748591     no stress  \n",
      "4  19.213819    3.266724     no stress  \n"
     ]
    }
   ],
   "source": [
    "# Look at the first few rows of the merged dataset\n",
    "print(df_train.head())"
   ]
  },
  {
   "cell_type": "code",
   "execution_count": 136,
   "id": "239e8b08",
   "metadata": {},
   "outputs": [],
   "source": [
    "# Load the test dataset\n",
    "df_hr_test = pd.read_csv('Test Data/heart_rate_non_linear_features_test.csv')\n",
    "# Load the time domain test dataset\n",
    "df_time_test = pd.read_csv('Test Data/time_domain_features_test.csv')"
   ]
  },
  {
   "cell_type": "code",
   "execution_count": 137,
   "id": "f246ad11",
   "metadata": {},
   "outputs": [],
   "source": [
    "# Merge the two datasets on 'uuid'\n",
    "df_test = pd.merge(df_hr_test, df_time_test, on='uuid')"
   ]
  },
  {
   "cell_type": "code",
   "execution_count": 138,
   "id": "33350023",
   "metadata": {},
   "outputs": [
    {
     "name": "stdout",
     "output_type": "stream",
     "text": [
      "                                   uuid        SD1         SD2    sampen  \\\n",
      "0  62b75db5-bc40-4c8f-9166-daf0efcab4c2   8.347898  115.862444  2.209659   \n",
      "1  a99549ad-3eb6-4413-bc90-9053e7f7e684  14.542096   77.118903  2.186132   \n",
      "2  cb573d3a-c767-4556-b32e-ad8c08ded214   9.799336  125.044377  2.051571   \n",
      "3  47a0c6de-2aef-4ac3-997d-252fa6fd07f1  11.639185  302.029812  2.080910   \n",
      "4  de3fd54f-c74e-4fe8-bf2a-7a127f68b312   7.266567   72.579248  2.068728   \n",
      "\n",
      "     higuci  datasetId      condition      MEAN_RR  MEDIAN_RR        SDRR  \\\n",
      "0  1.100715          2  time pressure   934.665288  939.03173   82.139495   \n",
      "1  1.290615          2      no stress   817.062380  816.33879   55.492332   \n",
      "2  1.226663          2      no stress   876.762022  894.19889   88.690820   \n",
      "3  1.085143          2  time pressure  1038.640693  998.91429  213.725850   \n",
      "4  1.252547          2   interruption   774.548508  778.90508   51.577855   \n",
      "\n",
      "   ...      KURT      SKEW  MEAN_REL_RR  MEDIAN_REL_RR  SDRR_REL_RR  \\\n",
      "0  ... -0.680262 -0.233075     0.000016       0.000288     0.012933   \n",
      "1  ... -0.034454 -0.051689     0.000040      -0.002749     0.025148   \n",
      "2  ... -0.206953 -0.589940     0.000010      -0.000172     0.015533   \n",
      "3  ... -0.820407  0.487198    -0.000238      -0.000464     0.016882   \n",
      "4  ...  1.738453 -0.005082     0.000054      -0.000006     0.013479   \n",
      "\n",
      "   RMSSD_REL_RR  SDSD_REL_RR  SDRR_RMSSD_REL_RR  KURT_REL_RR  SKEW_REL_RR  \n",
      "0      0.004578     0.004578           2.825038    -0.680262    -0.233075  \n",
      "1      0.013921     0.013921           1.806517    -0.034454    -0.051689  \n",
      "2      0.008149     0.008149           1.906180    -0.206953    -0.589940  \n",
      "3      0.007587     0.007587           2.225116    -0.820407     0.487198  \n",
      "4      0.007811     0.007811           1.725606     1.738453    -0.005082  \n",
      "\n",
      "[5 rows x 25 columns]\n"
     ]
    }
   ],
   "source": [
    "# Look at the first few rows of the merged dataset\n",
    "print(df_test.head())"
   ]
  },
  {
   "cell_type": "code",
   "execution_count": 139,
   "id": "0e1d7476",
   "metadata": {},
   "outputs": [],
   "source": [
    "# Drop all the columns instead of \"MEAN_RR\", \"SDRR\", \"RMSSD\", \"uuid\", \"SDRR_RMSSD\"\n",
    "df_test = df_test[[\"uuid\", \"MEAN_RR\", \"SDRR\", \"RMSSD\", \"SDRR_RMSSD\", \"condition\"]]"
   ]
  },
  {
   "cell_type": "code",
   "execution_count": 140,
   "id": "9f915720",
   "metadata": {},
   "outputs": [
    {
     "name": "stdout",
     "output_type": "stream",
     "text": [
      "                                   uuid      MEAN_RR        SDRR      RMSSD  \\\n",
      "0  62b75db5-bc40-4c8f-9166-daf0efcab4c2   934.665288   82.139495  11.801781   \n",
      "1  a99549ad-3eb6-4413-bc90-9053e7f7e684   817.062380   55.492332  20.558810   \n",
      "2  cb573d3a-c767-4556-b32e-ad8c08ded214   876.762022   88.690820  13.853737   \n",
      "3  47a0c6de-2aef-4ac3-997d-252fa6fd07f1  1038.640693  213.725850  16.457194   \n",
      "4  de3fd54f-c74e-4fe8-bf2a-7a127f68b312   774.548508   51.577855  10.273114   \n",
      "\n",
      "   SDRR_RMSSD      condition  \n",
      "0    6.959924  time pressure  \n",
      "1    2.699200      no stress  \n",
      "2    6.401942      no stress  \n",
      "3   12.986774  time pressure  \n",
      "4    5.020664   interruption  \n"
     ]
    }
   ],
   "source": [
    "# Look at the first few rows of the merged dataset\n",
    "print(df_test.head())"
   ]
  },
  {
   "cell_type": "code",
   "execution_count": 141,
   "id": "3155d228",
   "metadata": {},
   "outputs": [],
   "source": [
    "# Create HR column in the test dataset\n",
    "df_test['HR'] = 60000 / df_test['MEAN_RR']"
   ]
  },
  {
   "cell_type": "code",
   "execution_count": 142,
   "id": "83db7946",
   "metadata": {},
   "outputs": [
    {
     "name": "stdout",
     "output_type": "stream",
     "text": [
      "\n",
      "Unique values in 'HR' column in the test dataset:\n",
      "HR\n",
      "73.836214    1\n",
      "64.194103    1\n",
      "73.433806    1\n",
      "68.433621    1\n",
      "57.767812    1\n",
      "            ..\n",
      "79.852900    1\n",
      "67.546707    1\n",
      "85.080680    1\n",
      "74.345297    1\n",
      "79.013144    1\n",
      "Name: count, Length: 41033, dtype: int64\n"
     ]
    }
   ],
   "source": [
    "# Visualize HR in the test dataset\n",
    "print(\"\\nUnique values in 'HR' column in the test dataset:\")\n",
    "print(df_test['HR'].value_counts())"
   ]
  },
  {
   "cell_type": "code",
   "execution_count": 143,
   "id": "6e14c64f",
   "metadata": {},
   "outputs": [],
   "source": [
    "# Filter the values of 30 < HR < 180, and 0 < MEAN_RR < 2000, 0 < SDRR < 250, 0 < RMSSD < 150 in both train and test datasets\n",
    "df_train_filtered = df_train[\n",
    "    (df_train['HR'] > 30) & (df_train['HR'] <= 180) &\n",
    "    (df_train['MEAN_RR'] > 250) & (df_train['MEAN_RR'] <= 2000) &\n",
    "    (df_train['SDRR'] > 1) & (df_train['SDRR'] <= 250) &\n",
    "    (df_train['RMSSD'] > 1) & (df_train['RMSSD'] <= 150)\n",
    "]\n",
    "df_test_filtered = df_test[\n",
    "    (df_test['HR'] > 30) & (df_test['HR'] <= 180) &\n",
    "    (df_test['MEAN_RR'] > 250) & (df_test['MEAN_RR'] <= 2000) &\n",
    "    (df_test['SDRR'] > 1) & (df_test['SDRR'] <= 250) &\n",
    "    (df_test['RMSSD'] > 1) & (df_test['RMSSD'] <= 150)\n",
    "]"
   ]
  },
  {
   "cell_type": "code",
   "execution_count": 144,
   "id": "02cc2aab",
   "metadata": {},
   "outputs": [],
   "source": [
    "# Rename the columns in the train and test datasets\n",
    "df_train_filtered = df_train_filtered.rename(columns={'SDRR': 'SDNN', 'SDRR_RMSSD': 'SDNN_RMSSD_RATIO'})\n",
    "df_test_filtered = df_test_filtered.rename(columns={'SDRR': 'SDNN', 'SDRR_RMSSD': 'SDNN_RMSSD_RATIO'})\n"
   ]
  },
  {
   "cell_type": "code",
   "execution_count": 145,
   "id": "1a760364",
   "metadata": {},
   "outputs": [
    {
     "data": {
      "text/plain": [
       "(                                   uuid         HR     MEAN_RR        SDNN  \\\n",
       " 0  89df2855-56eb-4706-a23b-b39363dd605a  69.499952  885.157845  140.972741   \n",
       " 1  80c795e4-aa56-4cc0-939c-19634b89cbb2  64.363150  939.425371   81.317742   \n",
       " 2  c2d5d102-967c-487d-88f2-8b005a449f3e  67.450066  898.186047   84.497236   \n",
       " 3  37eabc44-1349-4040-8896-0d113ad4811f  68.809562  881.757865   90.370537   \n",
       " 4  aa777a6a-7aa3-4f6e-aced-70f8691dd2b7  74.565728  809.625331   62.766242   \n",
       " \n",
       "        RMSSD  SDNN_RMSSD_RATIO     condition  \n",
       " 0  15.554505          9.063146     no stress  \n",
       " 1  12.964439          6.272369  interruption  \n",
       " 2  16.305279          5.182201  interruption  \n",
       " 3  15.720468          5.748591     no stress  \n",
       " 4  19.213819          3.266724     no stress  ,\n",
       "                                    uuid      MEAN_RR        SDNN      RMSSD  \\\n",
       " 0  62b75db5-bc40-4c8f-9166-daf0efcab4c2   934.665288   82.139495  11.801781   \n",
       " 1  a99549ad-3eb6-4413-bc90-9053e7f7e684   817.062380   55.492332  20.558810   \n",
       " 2  cb573d3a-c767-4556-b32e-ad8c08ded214   876.762022   88.690820  13.853737   \n",
       " 3  47a0c6de-2aef-4ac3-997d-252fa6fd07f1  1038.640693  213.725850  16.457194   \n",
       " 4  de3fd54f-c74e-4fe8-bf2a-7a127f68b312   774.548508   51.577855  10.273114   \n",
       " \n",
       "    SDNN_RMSSD_RATIO      condition         HR  \n",
       " 0          6.959924  time pressure  64.194103  \n",
       " 1          2.699200      no stress  73.433806  \n",
       " 2          6.401942      no stress  68.433621  \n",
       " 3         12.986774  time pressure  57.767812  \n",
       " 4          5.020664   interruption  77.464483  )"
      ]
     },
     "execution_count": 145,
     "metadata": {},
     "output_type": "execute_result"
    }
   ],
   "source": [
    "# visualize test and train dataset\n",
    "df_train_filtered.head(), df_test_filtered.head()"
   ]
  },
  {
   "cell_type": "code",
   "execution_count": 146,
   "id": "7e4c5e24",
   "metadata": {},
   "outputs": [],
   "source": [
    "# Make HR second column of the df_test_filtered\n",
    "df_test_filtered = df_test_filtered[['uuid', 'HR', 'MEAN_RR', 'SDNN', 'RMSSD', 'SDNN_RMSSD_RATIO', 'condition']]"
   ]
  },
  {
   "cell_type": "code",
   "execution_count": 147,
   "id": "ec847074",
   "metadata": {},
   "outputs": [
    {
     "data": {
      "application/vnd.microsoft.datawrangler.viewer.v0+json": {
       "columns": [
        {
         "name": "index",
         "rawType": "int64",
         "type": "integer"
        },
        {
         "name": "uuid",
         "rawType": "object",
         "type": "string"
        },
        {
         "name": "HR",
         "rawType": "float64",
         "type": "float"
        },
        {
         "name": "MEAN_RR",
         "rawType": "float64",
         "type": "float"
        },
        {
         "name": "SDNN",
         "rawType": "float64",
         "type": "float"
        },
        {
         "name": "RMSSD",
         "rawType": "float64",
         "type": "float"
        },
        {
         "name": "SDNN_RMSSD_RATIO",
         "rawType": "float64",
         "type": "float"
        },
        {
         "name": "condition",
         "rawType": "object",
         "type": "string"
        }
       ],
       "ref": "c50fde7a-0cc6-4721-b933-eac2db058268",
       "rows": [
        [
         "0",
         "62b75db5-bc40-4c8f-9166-daf0efcab4c2",
         "64.1941032688551",
         "934.6652876933332",
         "82.13949527258414",
         "11.801781275114829",
         "6.9599235367785575",
         "time pressure"
        ],
        [
         "1",
         "a99549ad-3eb6-4413-bc90-9053e7f7e684",
         "73.43380559462986",
         "817.0623803866667",
         "55.49233151022405",
         "20.55881020944057",
         "2.699199561886225",
         "no stress"
        ],
        [
         "2",
         "cb573d3a-c767-4556-b32e-ad8c08ded214",
         "68.43362105709645",
         "876.7620224266667",
         "88.6908202169471",
         "13.853736610296233",
         "6.401942141084971",
         "no stress"
        ],
        [
         "3",
         "47a0c6de-2aef-4ac3-997d-252fa6fd07f1",
         "57.76781171232903",
         "1038.640693173333",
         "213.72584985471383",
         "16.45719390807425",
         "12.98677350759387",
         "time pressure"
        ],
        [
         "4",
         "de3fd54f-c74e-4fe8-bf2a-7a127f68b312",
         "77.46448336043036",
         "774.5485078733334",
         "51.57785508740783",
         "10.273113575101233",
         "5.020664349746529",
         "interruption"
        ]
       ],
       "shape": {
        "columns": 7,
        "rows": 5
       }
      },
      "text/html": [
       "<div>\n",
       "<style scoped>\n",
       "    .dataframe tbody tr th:only-of-type {\n",
       "        vertical-align: middle;\n",
       "    }\n",
       "\n",
       "    .dataframe tbody tr th {\n",
       "        vertical-align: top;\n",
       "    }\n",
       "\n",
       "    .dataframe thead th {\n",
       "        text-align: right;\n",
       "    }\n",
       "</style>\n",
       "<table border=\"1\" class=\"dataframe\">\n",
       "  <thead>\n",
       "    <tr style=\"text-align: right;\">\n",
       "      <th></th>\n",
       "      <th>uuid</th>\n",
       "      <th>HR</th>\n",
       "      <th>MEAN_RR</th>\n",
       "      <th>SDNN</th>\n",
       "      <th>RMSSD</th>\n",
       "      <th>SDNN_RMSSD_RATIO</th>\n",
       "      <th>condition</th>\n",
       "    </tr>\n",
       "  </thead>\n",
       "  <tbody>\n",
       "    <tr>\n",
       "      <th>0</th>\n",
       "      <td>62b75db5-bc40-4c8f-9166-daf0efcab4c2</td>\n",
       "      <td>64.194103</td>\n",
       "      <td>934.665288</td>\n",
       "      <td>82.139495</td>\n",
       "      <td>11.801781</td>\n",
       "      <td>6.959924</td>\n",
       "      <td>time pressure</td>\n",
       "    </tr>\n",
       "    <tr>\n",
       "      <th>1</th>\n",
       "      <td>a99549ad-3eb6-4413-bc90-9053e7f7e684</td>\n",
       "      <td>73.433806</td>\n",
       "      <td>817.062380</td>\n",
       "      <td>55.492332</td>\n",
       "      <td>20.558810</td>\n",
       "      <td>2.699200</td>\n",
       "      <td>no stress</td>\n",
       "    </tr>\n",
       "    <tr>\n",
       "      <th>2</th>\n",
       "      <td>cb573d3a-c767-4556-b32e-ad8c08ded214</td>\n",
       "      <td>68.433621</td>\n",
       "      <td>876.762022</td>\n",
       "      <td>88.690820</td>\n",
       "      <td>13.853737</td>\n",
       "      <td>6.401942</td>\n",
       "      <td>no stress</td>\n",
       "    </tr>\n",
       "    <tr>\n",
       "      <th>3</th>\n",
       "      <td>47a0c6de-2aef-4ac3-997d-252fa6fd07f1</td>\n",
       "      <td>57.767812</td>\n",
       "      <td>1038.640693</td>\n",
       "      <td>213.725850</td>\n",
       "      <td>16.457194</td>\n",
       "      <td>12.986774</td>\n",
       "      <td>time pressure</td>\n",
       "    </tr>\n",
       "    <tr>\n",
       "      <th>4</th>\n",
       "      <td>de3fd54f-c74e-4fe8-bf2a-7a127f68b312</td>\n",
       "      <td>77.464483</td>\n",
       "      <td>774.548508</td>\n",
       "      <td>51.577855</td>\n",
       "      <td>10.273114</td>\n",
       "      <td>5.020664</td>\n",
       "      <td>interruption</td>\n",
       "    </tr>\n",
       "  </tbody>\n",
       "</table>\n",
       "</div>"
      ],
      "text/plain": [
       "                                   uuid         HR      MEAN_RR        SDNN  \\\n",
       "0  62b75db5-bc40-4c8f-9166-daf0efcab4c2  64.194103   934.665288   82.139495   \n",
       "1  a99549ad-3eb6-4413-bc90-9053e7f7e684  73.433806   817.062380   55.492332   \n",
       "2  cb573d3a-c767-4556-b32e-ad8c08ded214  68.433621   876.762022   88.690820   \n",
       "3  47a0c6de-2aef-4ac3-997d-252fa6fd07f1  57.767812  1038.640693  213.725850   \n",
       "4  de3fd54f-c74e-4fe8-bf2a-7a127f68b312  77.464483   774.548508   51.577855   \n",
       "\n",
       "       RMSSD  SDNN_RMSSD_RATIO      condition  \n",
       "0  11.801781          6.959924  time pressure  \n",
       "1  20.558810          2.699200      no stress  \n",
       "2  13.853737          6.401942      no stress  \n",
       "3  16.457194         12.986774  time pressure  \n",
       "4  10.273114          5.020664   interruption  "
      ]
     },
     "execution_count": 147,
     "metadata": {},
     "output_type": "execute_result"
    }
   ],
   "source": [
    "# Visualize df_test_filtered\n",
    "df_test_filtered.head()"
   ]
  },
  {
   "cell_type": "code",
   "execution_count": 148,
   "id": "03cb5fcb",
   "metadata": {},
   "outputs": [],
   "source": [
    "# Save the filtered train dataset to a CSV file\n",
    "df_train_filtered.to_csv('filtered_heart_rate_features_train.csv', index=False)\n",
    "# Save the filtered test dataset to a CSV file\n",
    "df_test_filtered.to_csv('filtered_heart_rate_features_test.csv', index=False)"
   ]
  },
  {
   "cell_type": "markdown",
   "id": "c82356c1",
   "metadata": {},
   "source": [
    "## TRAIN THE RANDOM FOREST"
   ]
  },
  {
   "cell_type": "code",
   "execution_count": 149,
   "id": "cb80030f",
   "metadata": {},
   "outputs": [
    {
     "name": "stdout",
     "output_type": "stream",
     "text": [
      "\n",
      "Unique values in 'condition' column before encoding:\n",
      "condition\n",
      "no stress        186252\n",
      "interruption      96832\n",
      "time pressure     57342\n",
      "Name: count, dtype: int64\n",
      "condition\n",
      "no stress        20651\n",
      "interruption     10877\n",
      "time pressure     6372\n",
      "Name: count, dtype: int64\n",
      "\n",
      "Condition mapping to numerical labels:\n",
      "{0: 'interruption', 1: 'no stress', 2: 'time pressure'}\n",
      "\n",
      "Number of unique classes for 'condition': 3 in train dataset and 3 in test dataset\n"
     ]
    }
   ],
   "source": [
    "#Inspect the 'condition' column\n",
    "print(\"\\nUnique values in 'condition' column before encoding:\")\n",
    "print(df_train_filtered['condition'].value_counts())\n",
    "print(df_test_filtered['condition'].value_counts())\n",
    "\n",
    "#Encode the 'condition' column to numerical labels\n",
    "label_encoder = LabelEncoder()\n",
    "df_train_filtered['condition_encoded'] = label_encoder.fit_transform(df_train_filtered['condition'])\n",
    "df_test_filtered['condition_encoded'] = label_encoder.fit_transform(df_test_filtered['condition'])\n",
    "\n",
    "#Store the mapping for reference\n",
    "condition_mapping = {index: label for index, label in enumerate(label_encoder.classes_)}\n",
    "print(\"\\nCondition mapping to numerical labels:\")\n",
    "print(condition_mapping)\n",
    "\n",
    "num_classes_train = len(df_train_filtered['condition_encoded'].unique())\n",
    "num_classes_test = len(df_test_filtered['condition_encoded'].unique())\n",
    "print(f\"\\nNumber of unique classes for 'condition': {num_classes_train} in train dataset and {num_classes_test} in test dataset\")\n"
   ]
  },
  {
   "cell_type": "code",
   "execution_count": 150,
   "id": "5c920aeb",
   "metadata": {},
   "outputs": [
    {
     "name": "stdout",
     "output_type": "stream",
     "text": [
      "Data preparation complete.\n",
      "X_train_scaled shape: (340426, 5)\n",
      "X_test_scaled shape: (37900, 5)\n"
     ]
    }
   ],
   "source": [
    "if df_train_filtered.shape[0] > 0 and df_test_filtered.shape[0] > 0:\n",
    "    \n",
    "    feature_columns = [\"HR\", \"MEAN_RR\", \"SDNN\", \"RMSSD\", \"SDNN_RMSSD_RATIO\"]\n",
    "\n",
    "    # Create training and testing sets\n",
    "    X_train = df_train_filtered[feature_columns].values\n",
    "    y_train = df_train_filtered['condition_encoded'].values\n",
    "\n",
    "    X_test = df_test_filtered[feature_columns].values\n",
    "    y_test = df_test_filtered['condition_encoded'].values\n",
    "\n",
    "    # Scale the features\n",
    "    scaler = StandardScaler()\n",
    "    X_train_scaled = scaler.fit_transform(X_train)\n",
    "    X_test_scaled = scaler.transform(X_test)\n",
    "\n",
    "    print(\"Data preparation complete.\")\n",
    "    print(f\"X_train_scaled shape: {X_train_scaled.shape}\")\n",
    "    print(f\"X_test_scaled shape: {X_test_scaled.shape}\")\n",
    "\n",
    "else:\n",
    "    print(\"One of the filtered dataframes is empty\")"
   ]
  },
  {
   "cell_type": "code",
   "execution_count": null,
   "id": "4802545e",
   "metadata": {},
   "outputs": [
    {
     "name": "stdout",
     "output_type": "stream",
     "text": [
      "\n",
      "Training final optimized Random Forest model on the full dataset...\n",
      "Model training complete.\n"
     ]
    }
   ],
   "source": [
    "if 'X_train_scaled' in locals() and 'y_train' in locals():\n",
    "    rf_model = RandomForestClassifier(\n",
    "        n_estimators=150,\n",
    "        random_state=42,\n",
    "        class_weight='balanced',\n",
    "        max_depth=20,\n",
    "        min_samples_leaf=2\n",
    "    )\n",
    "\n",
    "    print(\"\\nTraining...\")\n",
    "    \n",
    "    rf_model.fit(X_train_scaled, y_train)\n",
    "    print(\"Model training complete.\")\n",
    "else:\n",
    "    print(\"data not available.\")"
   ]
  },
  {
   "cell_type": "code",
   "execution_count": null,
   "id": "2c859e46",
   "metadata": {},
   "outputs": [
    {
     "name": "stdout",
     "output_type": "stream",
     "text": [
      "Generating learning curves on a smaller sample for speed...\n"
     ]
    },
    {
     "data": {
      "image/png": "[encoded data removed]",
      "text/plain": [
       "<Figure size 1000x600 with 1 Axes>"
      ]
     },
     "metadata": {},
     "output_type": "display_data"
    }
   ],
   "source": [
    "print(\"Generating...\")\n",
    "\n",
    "# Sample of 100000 for speed\n",
    "sample_size = 100000\n",
    "\n",
    "if sample_size > X_train_scaled.shape[0]:\n",
    "    sample_size = X_train_scaled.shape[0]\n",
    "\n",
    "indices = np.random.choice(X_train_scaled.shape[0], sample_size, replace=False)\n",
    "X_sample = X_train_scaled[indices]\n",
    "y_sample = y_train[indices]\n",
    "\n",
    "# Cross validation\n",
    "train_sizes, train_scores, validation_scores = learning_curve(\n",
    "    estimator=rf_model,\n",
    "    X=X_sample,\n",
    "    y=y_sample,\n",
    "    cv=5,        # 5-folds\n",
    "    scoring='accuracy',\n",
    "    n_jobs=-1,\n",
    "    train_sizes=np.linspace(0.1, 1.0, 10) # 10 sizes\n",
    ")\n",
    "\n",
    "\n",
    "train_scores_mean = np.mean(train_scores, axis=1)\n",
    "validation_scores_mean = np.mean(validation_scores, axis=1)\n",
    "\n",
    "# learning curves\n",
    "plt.style.use('seaborn-v0_8-whitegrid')\n",
    "plt.figure(figsize=(10, 6))\n",
    "plt.plot(train_sizes, train_scores_mean, 'o-', color=\"r\", label=\"Training score\")\n",
    "plt.plot(train_sizes, validation_scores_mean, 'o-', color=\"g\", label=\"Cross-validation score\")\n",
    "\n",
    "plt.title(\"Learning Curves for Random Forest (on a sample of 100,000 data points)\")\n",
    "plt.xlabel(\"Training examples\")\n",
    "plt.ylabel(\"Accuracy Score\")\n",
    "plt.legend(loc=\"best\")\n",
    "plt.grid(True)\n",
    "plt.show()"
   ]
  },
  {
   "cell_type": "code",
   "execution_count": null,
   "id": "f66ac609",
   "metadata": {},
   "outputs": [],
   "source": [
    "# from sklearn.model_selection import GridSearchCV\n",
    "\n",
    "# print(\"Finding hyperparams......\")\n",
    "\n",
    "\n",
    "# param_grid = {\n",
    "#     'n_estimators': [100, 150],\n",
    "#     'max_depth': [10, 15, 20],\n",
    "#     'min_samples_leaf': [2, 3, 5]\n",
    "# }\n",
    "\n",
    "# rf_for_grid = RandomForestClassifier(random_state=42, class_weight='balanced', n_jobs=-1)\n",
    "\n",
    "\n",
    "# grid_search = GridSearchCV(estimator=rf_for_grid, param_grid=param_grid, \n",
    "#                            cv=3, scoring='accuracy', verbose=2)\n",
    "\n",
    "# grid_search.fit(X_sample, y_sample)\n",
    "\n",
    "# print(grid_search.best_params_)\n"
   ]
  },
  {
   "cell_type": "code",
   "execution_count": 158,
   "id": "c2201323",
   "metadata": {},
   "outputs": [
    {
     "name": "stdout",
     "output_type": "stream",
     "text": [
      "\n",
      "Evaluating Random Forest model...\n",
      "Random Forest Test Accuracy: 95.98%\n",
      "\n",
      "Random Forest Classification Report on Test Set:\n",
      "               precision    recall  f1-score   support\n",
      "\n",
      " interruption       0.96      0.94      0.95     10877\n",
      "    no stress       0.96      0.98      0.97     20651\n",
      "time pressure       0.95      0.94      0.94      6372\n",
      "\n",
      "     accuracy                           0.96     37900\n",
      "    macro avg       0.96      0.95      0.95     37900\n",
      " weighted avg       0.96      0.96      0.96     37900\n",
      "\n",
      "\n",
      "Feature Importances:\n",
      "            feature  importance\n",
      "3             RMSSD    0.243065\n",
      "1           MEAN_RR    0.205601\n",
      "0                HR    0.193462\n",
      "4  SDNN_RMSSD_RATIO    0.180389\n",
      "2              SDNN    0.177483\n"
     ]
    }
   ],
   "source": [
    "if 'rf_model' in locals() and 'X_test_scaled' in locals() and 'y_test' in locals():\n",
    "    print(\"\\nEvaluating Random Forest model...\")\n",
    "    y_pred_rf = rf_model.predict(X_test_scaled)\n",
    "\n",
    "    # Calculate accuracy\n",
    "    accuracy_rf = accuracy_score(y_test, y_pred_rf)\n",
    "    print(f\"Random Forest Test Accuracy: {accuracy_rf*100:.2f}%\")\n",
    "\n",
    "    # Print classification report\n",
    "    print(\"\\nRandom Forest Classification Report on Test Set:\")\n",
    "    \n",
    "    if 'label_encoder' in locals() and 'condition_mapping' in locals() and hasattr(label_encoder, 'classes_'):\n",
    "        target_names_rf = [condition_mapping.get(i, str(i)) for i in range(len(label_encoder.classes_))]\n",
    "        print(classification_report(y_test, y_pred_rf, target_names=target_names_rf))\n",
    "    elif 'label_encoder' in locals() and hasattr(label_encoder, 'classes_'):\n",
    "        print(classification_report(y_test, y_pred_rf, target_names=label_encoder.classes_))\n",
    "    else:\n",
    "        print(classification_report(y_test, y_pred_rf))\n",
    "\n",
    "    # Feature importances\n",
    "    if hasattr(rf_model, 'feature_importances_'):\n",
    "        print(\"\\nFeature Importances:\")\n",
    "        feature_columns = [\"HR\", \"MEAN_RR\", \"SDNN\", \"RMSSD\", \"SDNN_RMSSD_RATIO\"]\n",
    "        importances = rf_model.feature_importances_\n",
    "        feature_importance_df = pd.DataFrame({'feature': feature_columns, 'importance': importances})\n",
    "        feature_importance_df = feature_importance_df.sort_values(by='importance', ascending=False)\n",
    "        print(feature_importance_df)\n",
    "\n",
    "else:\n",
    "    print(\"test data is not available.\")\n",
    "\n"
   ]
  },
  {
   "cell_type": "code",
   "execution_count": null,
   "id": "cdff4d05",
   "metadata": {},
   "outputs": [
    {
     "name": "stdout",
     "output_type": "stream",
     "text": [
      "Random Forest model saved to trained_model_assets\\rf_model.joblib\n",
      "Scaler saved to trained_model_assets\\scaler.joblib\n",
      "Label encoder saved to trained_model_assets\\label_encoder.joblib\n"
     ]
    }
   ],
   "source": [
    "model_filename = 'rf_model.joblib'\n",
    "scaler_filename = 'scaler.joblib'\n",
    "label_encoder_filename = 'label_encoder.joblib'\n",
    "\n",
    "model_dir = 'trained_model_assets'\n",
    "os.makedirs(model_dir, exist_ok=True)\n",
    "\n",
    "full_model_path = os.path.join(model_dir, model_filename)\n",
    "full_scaler_path = os.path.join(model_dir, scaler_filename)\n",
    "full_label_encoder_path = os.path.join(model_dir, label_encoder_filename)\n",
    "\n",
    "\n",
    "# Save the Random Forest model\n",
    "if 'rf_model' in locals():\n",
    "    joblib.dump(rf_model, full_model_path)\n",
    "    print(f\"Random Forest model saved to {full_model_path}\")\n",
    "else:\n",
    "    print(\"'rf_model' not found\")\n",
    "\n",
    "# Save the scaler\n",
    "if 'scaler' in locals():\n",
    "    joblib.dump(scaler, full_scaler_path)\n",
    "    print(f\"Scaler saved to {full_scaler_path}\")\n",
    "else:\n",
    "    print(\"'scaler' not found\")\n",
    "\n",
    "# Save the label encoder\n",
    "if 'label_encoder' in locals():\n",
    "    joblib.dump(label_encoder, full_label_encoder_path)\n",
    "    print(f\"Label encoder saved to {full_label_encoder_path}\")\n",
    "else:\n",
    "    print(\"label_encoder not found .\")\n",
    "\n"
   ]
  }
 ],
 "metadata": {
  "kernelspec": {
   "display_name": "Python 3",
   "language": "python",
   "name": "python3"
  },
  "language_info": {
   "codemirror_mode": {
    "name": "ipython",
    "version": 3
   },
   "file_extension": ".py",
   "mimetype": "text/x-python",
   "name": "python",
   "nbconvert_exporter": "python",
   "pygments_lexer": "ipython3",
   "version": "3.11.1"
  }
 },
 "nbformat": 4,
 "nbformat_minor": 5
}
